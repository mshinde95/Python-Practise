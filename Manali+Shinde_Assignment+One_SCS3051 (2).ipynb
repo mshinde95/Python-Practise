{
 "cells": [
  {
   "cell_type": "code",
   "execution_count": 2,
   "metadata": {
    "collapsed": true
   },
   "outputs": [],
   "source": [
    "import numpy as np\n",
    "import pandas as pd\n",
    "import seaborn as sns\n",
    "import matplotlib.pyplot as plt\n",
    "%matplotlib inline\n",
    "import statistics\n",
    "import random"
   ]
  },
  {
   "cell_type": "code",
   "execution_count": 36,
   "metadata": {
    "collapsed": true
   },
   "outputs": [],
   "source": [
    "data=pd.read_csv('mosquitos.csv')"
   ]
  },
  {
   "cell_type": "code",
   "execution_count": 37,
   "metadata": {},
   "outputs": [
    {
     "data": {
      "text/html": [
       "<div>\n",
       "<style>\n",
       "    .dataframe thead tr:only-child th {\n",
       "        text-align: right;\n",
       "    }\n",
       "\n",
       "    .dataframe thead th {\n",
       "        text-align: left;\n",
       "    }\n",
       "\n",
       "    .dataframe tbody tr th {\n",
       "        vertical-align: top;\n",
       "    }\n",
       "</style>\n",
       "<table border=\"1\" class=\"dataframe\">\n",
       "  <thead>\n",
       "    <tr style=\"text-align: right;\">\n",
       "      <th></th>\n",
       "      <th>Response</th>\n",
       "      <th>Treatment</th>\n",
       "    </tr>\n",
       "  </thead>\n",
       "  <tbody>\n",
       "    <tr>\n",
       "      <th>0</th>\n",
       "      <td>27</td>\n",
       "      <td>Beer</td>\n",
       "    </tr>\n",
       "    <tr>\n",
       "      <th>1</th>\n",
       "      <td>20</td>\n",
       "      <td>Beer</td>\n",
       "    </tr>\n",
       "    <tr>\n",
       "      <th>2</th>\n",
       "      <td>21</td>\n",
       "      <td>Beer</td>\n",
       "    </tr>\n",
       "    <tr>\n",
       "      <th>3</th>\n",
       "      <td>26</td>\n",
       "      <td>Beer</td>\n",
       "    </tr>\n",
       "    <tr>\n",
       "      <th>4</th>\n",
       "      <td>27</td>\n",
       "      <td>Beer</td>\n",
       "    </tr>\n",
       "    <tr>\n",
       "      <th>5</th>\n",
       "      <td>31</td>\n",
       "      <td>Beer</td>\n",
       "    </tr>\n",
       "    <tr>\n",
       "      <th>6</th>\n",
       "      <td>24</td>\n",
       "      <td>Beer</td>\n",
       "    </tr>\n",
       "    <tr>\n",
       "      <th>7</th>\n",
       "      <td>21</td>\n",
       "      <td>Beer</td>\n",
       "    </tr>\n",
       "    <tr>\n",
       "      <th>8</th>\n",
       "      <td>20</td>\n",
       "      <td>Beer</td>\n",
       "    </tr>\n",
       "    <tr>\n",
       "      <th>9</th>\n",
       "      <td>19</td>\n",
       "      <td>Beer</td>\n",
       "    </tr>\n",
       "    <tr>\n",
       "      <th>10</th>\n",
       "      <td>23</td>\n",
       "      <td>Beer</td>\n",
       "    </tr>\n",
       "    <tr>\n",
       "      <th>11</th>\n",
       "      <td>24</td>\n",
       "      <td>Beer</td>\n",
       "    </tr>\n",
       "    <tr>\n",
       "      <th>12</th>\n",
       "      <td>28</td>\n",
       "      <td>Beer</td>\n",
       "    </tr>\n",
       "    <tr>\n",
       "      <th>13</th>\n",
       "      <td>19</td>\n",
       "      <td>Beer</td>\n",
       "    </tr>\n",
       "    <tr>\n",
       "      <th>14</th>\n",
       "      <td>24</td>\n",
       "      <td>Beer</td>\n",
       "    </tr>\n",
       "    <tr>\n",
       "      <th>15</th>\n",
       "      <td>29</td>\n",
       "      <td>Beer</td>\n",
       "    </tr>\n",
       "    <tr>\n",
       "      <th>16</th>\n",
       "      <td>18</td>\n",
       "      <td>Beer</td>\n",
       "    </tr>\n",
       "    <tr>\n",
       "      <th>17</th>\n",
       "      <td>20</td>\n",
       "      <td>Beer</td>\n",
       "    </tr>\n",
       "    <tr>\n",
       "      <th>18</th>\n",
       "      <td>17</td>\n",
       "      <td>Beer</td>\n",
       "    </tr>\n",
       "    <tr>\n",
       "      <th>19</th>\n",
       "      <td>31</td>\n",
       "      <td>Beer</td>\n",
       "    </tr>\n",
       "    <tr>\n",
       "      <th>20</th>\n",
       "      <td>20</td>\n",
       "      <td>Beer</td>\n",
       "    </tr>\n",
       "    <tr>\n",
       "      <th>21</th>\n",
       "      <td>25</td>\n",
       "      <td>Beer</td>\n",
       "    </tr>\n",
       "    <tr>\n",
       "      <th>22</th>\n",
       "      <td>28</td>\n",
       "      <td>Beer</td>\n",
       "    </tr>\n",
       "    <tr>\n",
       "      <th>23</th>\n",
       "      <td>21</td>\n",
       "      <td>Beer</td>\n",
       "    </tr>\n",
       "    <tr>\n",
       "      <th>24</th>\n",
       "      <td>27</td>\n",
       "      <td>Beer</td>\n",
       "    </tr>\n",
       "    <tr>\n",
       "      <th>25</th>\n",
       "      <td>21</td>\n",
       "      <td>Water</td>\n",
       "    </tr>\n",
       "    <tr>\n",
       "      <th>26</th>\n",
       "      <td>22</td>\n",
       "      <td>Water</td>\n",
       "    </tr>\n",
       "    <tr>\n",
       "      <th>27</th>\n",
       "      <td>15</td>\n",
       "      <td>Water</td>\n",
       "    </tr>\n",
       "    <tr>\n",
       "      <th>28</th>\n",
       "      <td>12</td>\n",
       "      <td>Water</td>\n",
       "    </tr>\n",
       "    <tr>\n",
       "      <th>29</th>\n",
       "      <td>21</td>\n",
       "      <td>Water</td>\n",
       "    </tr>\n",
       "    <tr>\n",
       "      <th>30</th>\n",
       "      <td>16</td>\n",
       "      <td>Water</td>\n",
       "    </tr>\n",
       "    <tr>\n",
       "      <th>31</th>\n",
       "      <td>19</td>\n",
       "      <td>Water</td>\n",
       "    </tr>\n",
       "    <tr>\n",
       "      <th>32</th>\n",
       "      <td>15</td>\n",
       "      <td>Water</td>\n",
       "    </tr>\n",
       "    <tr>\n",
       "      <th>33</th>\n",
       "      <td>22</td>\n",
       "      <td>Water</td>\n",
       "    </tr>\n",
       "    <tr>\n",
       "      <th>34</th>\n",
       "      <td>24</td>\n",
       "      <td>Water</td>\n",
       "    </tr>\n",
       "    <tr>\n",
       "      <th>35</th>\n",
       "      <td>19</td>\n",
       "      <td>Water</td>\n",
       "    </tr>\n",
       "    <tr>\n",
       "      <th>36</th>\n",
       "      <td>23</td>\n",
       "      <td>Water</td>\n",
       "    </tr>\n",
       "    <tr>\n",
       "      <th>37</th>\n",
       "      <td>13</td>\n",
       "      <td>Water</td>\n",
       "    </tr>\n",
       "    <tr>\n",
       "      <th>38</th>\n",
       "      <td>22</td>\n",
       "      <td>Water</td>\n",
       "    </tr>\n",
       "    <tr>\n",
       "      <th>39</th>\n",
       "      <td>20</td>\n",
       "      <td>Water</td>\n",
       "    </tr>\n",
       "    <tr>\n",
       "      <th>40</th>\n",
       "      <td>24</td>\n",
       "      <td>Water</td>\n",
       "    </tr>\n",
       "    <tr>\n",
       "      <th>41</th>\n",
       "      <td>18</td>\n",
       "      <td>Water</td>\n",
       "    </tr>\n",
       "    <tr>\n",
       "      <th>42</th>\n",
       "      <td>20</td>\n",
       "      <td>Water</td>\n",
       "    </tr>\n",
       "  </tbody>\n",
       "</table>\n",
       "</div>"
      ],
      "text/plain": [
       "    Response Treatment\n",
       "0         27      Beer\n",
       "1         20      Beer\n",
       "2         21      Beer\n",
       "3         26      Beer\n",
       "4         27      Beer\n",
       "5         31      Beer\n",
       "6         24      Beer\n",
       "7         21      Beer\n",
       "8         20      Beer\n",
       "9         19      Beer\n",
       "10        23      Beer\n",
       "11        24      Beer\n",
       "12        28      Beer\n",
       "13        19      Beer\n",
       "14        24      Beer\n",
       "15        29      Beer\n",
       "16        18      Beer\n",
       "17        20      Beer\n",
       "18        17      Beer\n",
       "19        31      Beer\n",
       "20        20      Beer\n",
       "21        25      Beer\n",
       "22        28      Beer\n",
       "23        21      Beer\n",
       "24        27      Beer\n",
       "25        21     Water\n",
       "26        22     Water\n",
       "27        15     Water\n",
       "28        12     Water\n",
       "29        21     Water\n",
       "30        16     Water\n",
       "31        19     Water\n",
       "32        15     Water\n",
       "33        22     Water\n",
       "34        24     Water\n",
       "35        19     Water\n",
       "36        23     Water\n",
       "37        13     Water\n",
       "38        22     Water\n",
       "39        20     Water\n",
       "40        24     Water\n",
       "41        18     Water\n",
       "42        20     Water"
      ]
     },
     "execution_count": 37,
     "metadata": {},
     "output_type": "execute_result"
    }
   ],
   "source": [
    "data"
   ]
  },
  {
   "cell_type": "code",
   "execution_count": 38,
   "metadata": {},
   "outputs": [
    {
     "data": {
      "text/html": [
       "<div>\n",
       "<style>\n",
       "    .dataframe thead tr:only-child th {\n",
       "        text-align: right;\n",
       "    }\n",
       "\n",
       "    .dataframe thead th {\n",
       "        text-align: left;\n",
       "    }\n",
       "\n",
       "    .dataframe tbody tr th {\n",
       "        vertical-align: top;\n",
       "    }\n",
       "</style>\n",
       "<table border=\"1\" class=\"dataframe\">\n",
       "  <thead>\n",
       "    <tr style=\"text-align: right;\">\n",
       "      <th></th>\n",
       "      <th>Response</th>\n",
       "      <th>Treatment</th>\n",
       "    </tr>\n",
       "  </thead>\n",
       "  <tbody>\n",
       "    <tr>\n",
       "      <th>0</th>\n",
       "      <td>27</td>\n",
       "      <td>Beer</td>\n",
       "    </tr>\n",
       "    <tr>\n",
       "      <th>1</th>\n",
       "      <td>20</td>\n",
       "      <td>Beer</td>\n",
       "    </tr>\n",
       "    <tr>\n",
       "      <th>2</th>\n",
       "      <td>21</td>\n",
       "      <td>Beer</td>\n",
       "    </tr>\n",
       "    <tr>\n",
       "      <th>3</th>\n",
       "      <td>26</td>\n",
       "      <td>Beer</td>\n",
       "    </tr>\n",
       "    <tr>\n",
       "      <th>4</th>\n",
       "      <td>27</td>\n",
       "      <td>Beer</td>\n",
       "    </tr>\n",
       "  </tbody>\n",
       "</table>\n",
       "</div>"
      ],
      "text/plain": [
       "   Response Treatment\n",
       "0        27      Beer\n",
       "1        20      Beer\n",
       "2        21      Beer\n",
       "3        26      Beer\n",
       "4        27      Beer"
      ]
     },
     "execution_count": 38,
     "metadata": {},
     "output_type": "execute_result"
    }
   ],
   "source": [
    "data.head()"
   ]
  },
  {
   "cell_type": "markdown",
   "metadata": {},
   "source": [
    "### 1. Boxplots of the Mosquitos Data"
   ]
  },
  {
   "cell_type": "code",
   "execution_count": 39,
   "metadata": {},
   "outputs": [
    {
     "data": {
      "text/plain": [
       "Text(0.5,1,'Mosquitos Response based on Human Liquid Intake')"
      ]
     },
     "execution_count": 39,
     "metadata": {},
     "output_type": "execute_result"
    },
    {
     "data": {
      "image/png": "[encoded data removed]",
      "text/plain": [
       "<matplotlib.figure.Figure at 0x1a1a0ded30>"
      ]
     },
     "metadata": {},
     "output_type": "display_data"
    }
   ],
   "source": [
    "sns.set(style=\"ticks\")\n",
    "sns.boxplot(x=\"Treatment\", y=\"Response\", data=data, palette=\"PRGn\")\n",
    "plt.title('Mosquitos Response based on Human Liquid Intake')"
   ]
  },
  {
   "cell_type": "markdown",
   "metadata": {},
   "source": [
    "### 2. Observations based on the Boxplots "
   ]
  },
  {
   "cell_type": "markdown",
   "metadata": {},
   "source": [
    "(a) The graphs show that mosquitos are more attracated to individuals that have drank Beer than Water. The median number of mosquitos that responded to Beer individuals was 24 while the median for Water individuals is 20. In the first interquartile, for the beer group, 20 to 24 responding mosquitos, with the minimum being 20. The third interquartile has 24 to 31 mosquitos responding, with the max being 31 mosquitios. For the water group, the first interquartile has 12 to 20 with the minumum being 12. In the third interquartile, there are 20 to 24 mosquitos responding with the max being 24.\n",
    "(b) These numbers indicate that there is positive correlation between the beer group and the number mosquitos that are responding. The median for the beer group is larger (24) than the median for the water group (20). The interquartile ranges correspond to this, there are more mosquitos responding in the first and third interquartile, in the beer group than the water group. \n",
    "(c) Based on the boxplots, it can be observed that more mosquitos respond to indviduals that have drank beer rather than water. Although, based on this information alone, we cannot say for certain that this difference is significant. "
   ]
  },
  {
   "cell_type": "markdown",
   "metadata": {},
   "source": [
    "### 3. Statistic Measurements: Mean, Median, and Standard Deviation "
   ]
  },
  {
   "cell_type": "code",
   "execution_count": 58,
   "metadata": {},
   "outputs": [
    {
     "name": "stdout",
     "output_type": "stream",
     "text": [
      "Mean for Beer responses using native Python is 23.6\n",
      "Median for Beer responses using statistic module is 24\n",
      "Standard Deviation for Beer responses using statistic module is 4.133198922545748\n"
     ]
    }
   ],
   "source": [
    "## Statistic Measurement of Beer Data: \n",
    "dataset_beer = [27,20,21,26,27,31,24,21,20,19,23,24,28,19,24,29,18,20,17,31,20,25,28,21,27]\n",
    "python_mean = sum(dataset_beer) / len(dataset_beer)\n",
    "print(\"Mean for Beer responses using native Python is %s\" % python_mean)\n",
    "stat_median = statistics.median(dataset_beer)\n",
    "print(\"Median for Beer responses using statistic module is %s\" % stat_median)\n",
    "statdv = statistics.stdev(dataset_beer)\n",
    "print(\"Standard Deviation for Beer responses using statistic module is %s\" % statdv)"
   ]
  },
  {
   "cell_type": "code",
   "execution_count": 59,
   "metadata": {},
   "outputs": [
    {
     "name": "stdout",
     "output_type": "stream",
     "text": [
      "Mean for Water responses using native Python is 19.22222222222222\n",
      "Median for Water responses using statistic module is 20.0\n",
      "Standard Deviation for Beer responses using statistic module is 3.6711202899124045\n"
     ]
    }
   ],
   "source": [
    "## Statistic Measurement of Water Data: \n",
    "dataset_water = [21,22,15,12,21,16,19,15,22,24,19,23,13,22,20,24,18,20]\n",
    "python_meanwater = sum(dataset_water) / len(dataset_water)\n",
    "print(\"Mean for Water responses using native Python is %s\" % python_meanwater)\n",
    "stat_median1 = statistics.median(dataset_water)\n",
    "print(\"Median for Water responses using statistic module is %s\" % stat_median1)\n",
    "statdv1 = statistics.stdev(dataset_water)\n",
    "print(\"Standard Deviation for Beer responses using statistic module is %s\" % statdv1)"
   ]
  },
  {
   "cell_type": "markdown",
   "metadata": {},
   "source": [
    "### 4. Explaining the Statistical Measurements"
   ]
  },
  {
   "cell_type": "markdown",
   "metadata": {},
   "source": [
    "Using the mean, median, and the standard deviation, we can support our obervation that there is a postive correlation between beer drinking individuals and the amount of mosquitos that are attracted to them. For instance, in the beer group, there was an average of 23.6 mosquitos and a median of 24 while in the water group, there was an average of 19.2 mosquitos that were attracted, with a median of 20. The difference between the means is 4, and the difference between the median is 4 as well. The standard deviation indicates that the amount of variation in the beer group is around 4, while in the water group, 3.67. These numbers indicate that in this environment, on average, four more mosquitos were attracted to beer drinking indiviuals."
   ]
  },
  {
   "cell_type": "markdown",
   "metadata": {},
   "source": [
    "### 5. Resampling Implementation"
   ]
  },
  {
   "cell_type": "code",
   "execution_count": 42,
   "metadata": {},
   "outputs": [
    {
     "name": "stdout",
     "output_type": "stream",
     "text": [
      "These are the first 5 rows before shuffling:\n",
      "   Response Treatment\n",
      "0        27      Beer\n",
      "1        20      Beer\n",
      "2        21      Beer\n",
      "3        26      Beer\n",
      "4        27      Beer\n"
     ]
    }
   ],
   "source": [
    "df = pd.read_csv(\"mosquitos.csv\")\n",
    "print(\"These are the first 5 rows before shuffling:\")\n",
    "labels = df[\"Treatment\"].tolist() \n",
    "df[\"Treatment\"] = labels\n",
    "print(df.head())  "
   ]
  },
  {
   "cell_type": "code",
   "execution_count": 43,
   "metadata": {},
   "outputs": [
    {
     "name": "stdout",
     "output_type": "stream",
     "text": [
      "\n",
      "These are the first 5 rows after shuffling:\n",
      "   Response Treatment\n",
      "0        27     Water\n",
      "1        20      Beer\n",
      "2        21      Beer\n",
      "3        26      Beer\n",
      "4        27     Water\n"
     ]
    }
   ],
   "source": [
    "random.shuffle(labels)\n",
    "df[\"Treatment\"] = labels\n",
    "print(\"\\nThese are the first 5 rows after shuffling:\")\n",
    "print(df.head())"
   ]
  },
  {
   "cell_type": "code",
   "execution_count": 51,
   "metadata": {},
   "outputs": [
    {
     "data": {
      "text/plain": [
       "Treatment\n",
       "Beer     22.520000\n",
       "Water    20.722222\n",
       "Name: Response, dtype: float64"
      ]
     },
     "execution_count": 51,
     "metadata": {},
     "output_type": "execute_result"
    }
   ],
   "source": [
    "df.groupby('Treatment')['Response'].mean() #The mean of the two groups after shuffling"
   ]
  },
  {
   "cell_type": "code",
   "execution_count": 52,
   "metadata": {},
   "outputs": [
    {
     "name": "stdout",
     "output_type": "stream",
     "text": [
      "\n",
      "These are the first 5 rows after shuffling a second time:\n",
      "   Response Treatment\n",
      "0        27      Beer\n",
      "1        20      Beer\n",
      "2        21      Beer\n",
      "3        26     Water\n",
      "4        27     Water\n"
     ]
    }
   ],
   "source": [
    "random.shuffle(labels)\n",
    "df[\"Treatment\"] = labels\n",
    "print(\"\\nThese are the first 5 rows after shuffling a second time:\")\n",
    "print(df.head())"
   ]
  },
  {
   "cell_type": "code",
   "execution_count": 53,
   "metadata": {},
   "outputs": [
    {
     "data": {
      "text/plain": [
       "Treatment\n",
       "Beer     20.960000\n",
       "Water    22.888889\n",
       "Name: Response, dtype: float64"
      ]
     },
     "execution_count": 53,
     "metadata": {},
     "output_type": "execute_result"
    }
   ],
   "source": [
    "df.groupby('Treatment')['Response'].mean()"
   ]
  },
  {
   "cell_type": "code",
   "execution_count": 54,
   "metadata": {},
   "outputs": [
    {
     "name": "stdout",
     "output_type": "stream",
     "text": [
      "\n",
      "These are the first 5 rows after shuffling a third time:\n",
      "   Response Treatment\n",
      "0        27     Water\n",
      "1        20     Water\n",
      "2        21      Beer\n",
      "3        26     Water\n",
      "4        27     Water\n"
     ]
    }
   ],
   "source": [
    "random.shuffle(labels)\n",
    "df[\"Treatment\"] = labels\n",
    "print(\"\\nThese are the first 5 rows after shuffling a third time:\")\n",
    "print(df.head())"
   ]
  },
  {
   "cell_type": "code",
   "execution_count": 55,
   "metadata": {},
   "outputs": [
    {
     "data": {
      "text/plain": [
       "Treatment\n",
       "Beer     21.880000\n",
       "Water    21.611111\n",
       "Name: Response, dtype: float64"
      ]
     },
     "execution_count": 55,
     "metadata": {},
     "output_type": "execute_result"
    }
   ],
   "source": [
    "df.groupby('Treatment')['Response'].mean()"
   ]
  },
  {
   "cell_type": "code",
   "execution_count": 56,
   "metadata": {},
   "outputs": [
    {
     "name": "stdout",
     "output_type": "stream",
     "text": [
      "\n",
      "These are the first 5 rows after shuffling a fourth time:\n",
      "   Response Treatment\n",
      "0        27     Water\n",
      "1        20      Beer\n",
      "2        21     Water\n",
      "3        26     Water\n",
      "4        27      Beer\n"
     ]
    }
   ],
   "source": [
    "random.shuffle(labels)\n",
    "df[\"Treatment\"] = labels\n",
    "print(\"\\nThese are the first 5 rows after shuffling a fourth time:\")\n",
    "print(df.head())"
   ]
  },
  {
   "cell_type": "code",
   "execution_count": 57,
   "metadata": {},
   "outputs": [
    {
     "data": {
      "text/plain": [
       "Treatment\n",
       "Beer     21.280000\n",
       "Water    22.444444\n",
       "Name: Response, dtype: float64"
      ]
     },
     "execution_count": 57,
     "metadata": {},
     "output_type": "execute_result"
    }
   ],
   "source": [
    "df.groupby('Treatment')['Response'].mean()"
   ]
  }
 ],
 "metadata": {
  "kernelspec": {
   "display_name": "Python 3",
   "language": "python",
   "name": "python3"
  },
  "language_info": {
   "codemirror_mode": {
    "name": "ipython",
    "version": 3
   },
   "file_extension": ".py",
   "mimetype": "text/x-python",
   "name": "python",
   "nbconvert_exporter": "python",
   "pygments_lexer": "ipython3",
   "version": "3.6.3"
  }
 },
 "nbformat": 4,
 "nbformat_minor": 2
}
